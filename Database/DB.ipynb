{
 "cells": [
  {
   "cell_type": "code",
   "execution_count": 3,
   "metadata": {},
   "outputs": [],
   "source": [
    "import pandas as pd"
   ]
  },
  {
   "cell_type": "code",
   "execution_count": 4,
   "metadata": {},
   "outputs": [
    {
     "data": {
      "text/plain": [
       "('0200.065.765', '006', '2008', '84130', 'MAIN')"
      ]
     },
     "execution_count": 4,
     "metadata": {},
     "output_type": "execute_result"
    }
   ],
   "source": [
    "import sqlite3\n",
    "conn = sqlite3.connect(\"bce.db\")\n",
    "c = conn.cursor()\n",
    "c.execute(\"SELECT * FROM activity\")\n",
    "c.fetchone()\n"
   ]
  },
  {
   "cell_type": "code",
   "execution_count": 5,
   "metadata": {},
   "outputs": [
    {
     "data": {
      "text/html": [
       "<div>\n",
       "<style scoped>\n",
       "    .dataframe tbody tr th:only-of-type {\n",
       "        vertical-align: middle;\n",
       "    }\n",
       "\n",
       "    .dataframe tbody tr th {\n",
       "        vertical-align: top;\n",
       "    }\n",
       "\n",
       "    .dataframe thead th {\n",
       "        text-align: right;\n",
       "    }\n",
       "</style>\n",
       "<table border=\"1\" class=\"dataframe\">\n",
       "  <thead>\n",
       "    <tr style=\"text-align: right;\">\n",
       "      <th></th>\n",
       "      <th>JuridicalForm</th>\n",
       "      <th>Percentage</th>\n",
       "      <th>Description</th>\n",
       "      <th>Code</th>\n",
       "    </tr>\n",
       "  </thead>\n",
       "  <tbody>\n",
       "    <tr>\n",
       "      <th>0</th>\n",
       "      <td>None</td>\n",
       "      <td>40.983539</td>\n",
       "      <td>NaN</td>\n",
       "      <td>NaN</td>\n",
       "    </tr>\n",
       "    <tr>\n",
       "      <th>1</th>\n",
       "      <td>015</td>\n",
       "      <td>19.133287</td>\n",
       "      <td>Société privée à responsabilité limitée</td>\n",
       "      <td>015</td>\n",
       "    </tr>\n",
       "    <tr>\n",
       "      <th>2</th>\n",
       "      <td>015</td>\n",
       "      <td>19.133287</td>\n",
       "      <td>Arrêt d'une entité sans personnalité juridique</td>\n",
       "      <td>015</td>\n",
       "    </tr>\n",
       "    <tr>\n",
       "      <th>3</th>\n",
       "      <td>015</td>\n",
       "      <td>19.133287</td>\n",
       "      <td>Chasse; capture d'animaux, repeuplement en gib...</td>\n",
       "      <td>015</td>\n",
       "    </tr>\n",
       "    <tr>\n",
       "      <th>4</th>\n",
       "      <td>015</td>\n",
       "      <td>19.133287</td>\n",
       "      <td>Culture et élevage associés</td>\n",
       "      <td>015</td>\n",
       "    </tr>\n",
       "    <tr>\n",
       "      <th>...</th>\n",
       "      <td>...</td>\n",
       "      <td>...</td>\n",
       "      <td>...</td>\n",
       "      <td>...</td>\n",
       "    </tr>\n",
       "    <tr>\n",
       "      <th>196</th>\n",
       "      <td>724</td>\n",
       "      <td>0.000054</td>\n",
       "      <td>Activités de banques de données</td>\n",
       "      <td>724</td>\n",
       "    </tr>\n",
       "    <tr>\n",
       "      <th>197</th>\n",
       "      <td>387</td>\n",
       "      <td>0.000054</td>\n",
       "      <td>Ministère de la Région de Bruxelles-Capitale</td>\n",
       "      <td>387</td>\n",
       "    </tr>\n",
       "    <tr>\n",
       "      <th>198</th>\n",
       "      <td>651</td>\n",
       "      <td>0.000054</td>\n",
       "      <td>Autre forme à finalité sociale de droit public</td>\n",
       "      <td>651</td>\n",
       "    </tr>\n",
       "    <tr>\n",
       "      <th>199</th>\n",
       "      <td>651</td>\n",
       "      <td>0.000054</td>\n",
       "      <td>Intermédiation monétaire</td>\n",
       "      <td>651</td>\n",
       "    </tr>\n",
       "    <tr>\n",
       "      <th>200</th>\n",
       "      <td>651</td>\n",
       "      <td>0.000054</td>\n",
       "      <td>Assurance</td>\n",
       "      <td>651</td>\n",
       "    </tr>\n",
       "  </tbody>\n",
       "</table>\n",
       "<p>201 rows × 4 columns</p>\n",
       "</div>"
      ],
      "text/plain": [
       "    JuridicalForm  Percentage  \\\n",
       "0            None   40.983539   \n",
       "1             015   19.133287   \n",
       "2             015   19.133287   \n",
       "3             015   19.133287   \n",
       "4             015   19.133287   \n",
       "..            ...         ...   \n",
       "196           724    0.000054   \n",
       "197           387    0.000054   \n",
       "198           651    0.000054   \n",
       "199           651    0.000054   \n",
       "200           651    0.000054   \n",
       "\n",
       "                                           Description Code  \n",
       "0                                                  NaN  NaN  \n",
       "1              Société privée à responsabilité limitée  015  \n",
       "2       Arrêt d'une entité sans personnalité juridique  015  \n",
       "3    Chasse; capture d'animaux, repeuplement en gib...  015  \n",
       "4                          Culture et élevage associés  015  \n",
       "..                                                 ...  ...  \n",
       "196                    Activités de banques de données  724  \n",
       "197       Ministère de la Région de Bruxelles-Capitale  387  \n",
       "198     Autre forme à finalité sociale de droit public  651  \n",
       "199                           Intermédiation monétaire  651  \n",
       "200                                          Assurance  651  \n",
       "\n",
       "[201 rows x 4 columns]"
      ]
     },
     "execution_count": 5,
     "metadata": {},
     "output_type": "execute_result"
    }
   ],
   "source": [
    "df = pd.read_sql_query(\"\"\"Select JuridicalForm from enterprise\n",
    "\"\"\", conn)\n",
    "\n",
    "df_description = pd.read_sql_query(\"\"\"select description, code from code\n",
    "where code.Language = \"FR\"\n",
    "\"\"\", conn)\n",
    "\n",
    "df_count = pd.DataFrame(df[\"JuridicalForm\"].value_counts(normalize=True, sort = True, dropna=False) * 100).reset_index()\n",
    "\n",
    "df_count.rename({'index': 'JuridicalForm', 'JuridicalForm': 'Percentage'}, axis=1, inplace=True)\n",
    "df = pd.merge(df_count, df_description, left_on=\"JuridicalForm\", right_on=\"Code\", how=\"left\")\n",
    "df\n",
    "\n"
   ]
  },
  {
   "cell_type": "code",
   "execution_count": 33,
   "metadata": {},
   "outputs": [
    {
     "data": {
      "text/html": [
       "<div>\n",
       "<style scoped>\n",
       "    .dataframe tbody tr th:only-of-type {\n",
       "        vertical-align: middle;\n",
       "    }\n",
       "\n",
       "    .dataframe tbody tr th {\n",
       "        vertical-align: top;\n",
       "    }\n",
       "\n",
       "    .dataframe thead th {\n",
       "        text-align: right;\n",
       "    }\n",
       "</style>\n",
       "<table border=\"1\" class=\"dataframe\">\n",
       "  <thead>\n",
       "    <tr style=\"text-align: right;\">\n",
       "      <th></th>\n",
       "      <th>TypeOfEnterprise</th>\n",
       "      <th>Percentage</th>\n",
       "      <th>Description</th>\n",
       "      <th>Code</th>\n",
       "    </tr>\n",
       "  </thead>\n",
       "  <tbody>\n",
       "    <tr>\n",
       "      <th>0</th>\n",
       "      <td>2</td>\n",
       "      <td>59.016461</td>\n",
       "      <td>Personne morale</td>\n",
       "      <td>2</td>\n",
       "    </tr>\n",
       "    <tr>\n",
       "      <th>1</th>\n",
       "      <td>1</td>\n",
       "      <td>40.983539</td>\n",
       "      <td>Personne physique</td>\n",
       "      <td>1</td>\n",
       "    </tr>\n",
       "  </tbody>\n",
       "</table>\n",
       "</div>"
      ],
      "text/plain": [
       "  TypeOfEnterprise  Percentage        Description Code\n",
       "0                2   59.016461    Personne morale    2\n",
       "1                1   40.983539  Personne physique    1"
      ]
     },
     "execution_count": 33,
     "metadata": {},
     "output_type": "execute_result"
    }
   ],
   "source": [
    "df = pd.read_sql_query(\"SELECT TypeOfEnterprise FROM enterprise\", conn)\n",
    "\n",
    "\n",
    "\n",
    "df_description = pd.read_sql_query(\"\"\"select description, Code\n",
    "from code\n",
    "where code.Category = \"TypeOfEnterprise\" and Language = \"FR\"\n",
    "\"\"\", conn)\n",
    "\n",
    "df = pd.DataFrame(df[\"TypeOfEnterprise\"].value_counts(normalize=True, sort = True) * 100).reset_index()\n",
    "df.rename({'TypeOfEnterprise': 'Percentage', 'index': 'TypeOfEnterprise'}, axis=1, inplace=True)\n",
    "#Personne morale ou Personne physique\n",
    "df = pd.merge(df, df_description, left_on=\"TypeOfEnterprise\", right_on=\"Code\", how=\"left\", suffixes=('', '_drop'))\n",
    "df"
   ]
  },
  {
   "cell_type": "code",
   "execution_count": 32,
   "metadata": {},
   "outputs": [
    {
     "data": {
      "text/html": [
       "<div>\n",
       "<style scoped>\n",
       "    .dataframe tbody tr th:only-of-type {\n",
       "        vertical-align: middle;\n",
       "    }\n",
       "\n",
       "    .dataframe tbody tr th {\n",
       "        vertical-align: top;\n",
       "    }\n",
       "\n",
       "    .dataframe thead th {\n",
       "        text-align: right;\n",
       "    }\n",
       "</style>\n",
       "<table border=\"1\" class=\"dataframe\">\n",
       "  <thead>\n",
       "    <tr style=\"text-align: right;\">\n",
       "      <th></th>\n",
       "      <th>TypeOfEnterprise</th>\n",
       "      <th>Percentage</th>\n",
       "      <th>Description</th>\n",
       "      <th>Code</th>\n",
       "    </tr>\n",
       "  </thead>\n",
       "  <tbody>\n",
       "    <tr>\n",
       "      <th>0</th>\n",
       "      <td>2</td>\n",
       "      <td>59.016461</td>\n",
       "      <td>Personne morale</td>\n",
       "      <td>2</td>\n",
       "    </tr>\n",
       "    <tr>\n",
       "      <th>1</th>\n",
       "      <td>1</td>\n",
       "      <td>40.983539</td>\n",
       "      <td>Personne physique</td>\n",
       "      <td>1</td>\n",
       "    </tr>\n",
       "  </tbody>\n",
       "</table>\n",
       "</div>"
      ],
      "text/plain": [
       "  TypeOfEnterprise  Percentage        Description Code\n",
       "0                2   59.016461    Personne morale    2\n",
       "1                1   40.983539  Personne physique    1"
      ]
     },
     "execution_count": 32,
     "metadata": {},
     "output_type": "execute_result"
    }
   ],
   "source": [
    "\n",
    "\n",
    "df"
   ]
  }
 ],
 "metadata": {
  "kernelspec": {
   "display_name": "Python 3.10.7 ('env': venv)",
   "language": "python",
   "name": "python3"
  },
  "language_info": {
   "codemirror_mode": {
    "name": "ipython",
    "version": 3
   },
   "file_extension": ".py",
   "mimetype": "text/x-python",
   "name": "python",
   "nbconvert_exporter": "python",
   "pygments_lexer": "ipython3",
   "version": "3.10.7"
  },
  "orig_nbformat": 4,
  "vscode": {
   "interpreter": {
    "hash": "f8a74a8186bdcac541e9ba426fa6331b7a9ab0a5a44391e11330eb5971204c58"
   }
  }
 },
 "nbformat": 4,
 "nbformat_minor": 2
}
